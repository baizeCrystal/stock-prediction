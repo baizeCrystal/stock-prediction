{
 "cells": [
  {
   "cell_type": "code",
   "execution_count": 1,
   "metadata": {},
   "outputs": [
    {
     "name": "stdout",
     "output_type": "stream",
     "text": [
      "参数已加载完毕\n"
     ]
    }
   ],
   "source": [
    "%matplotlib inline\n",
    "\n",
    "import math\n",
    "import matplotlib\n",
    "import numpy as np\n",
    "import pandas as pd\n",
    "import seaborn as sns\n",
    "import time\n",
    "import tensorflow as tf\n",
    "\n",
    "from datetime import date\n",
    "from matplotlib import pyplot as plt\n",
    "from numpy.random import seed\n",
    "from pylab import rcParams\n",
    "from sklearn.metrics import mean_squared_error\n",
    "from tqdm.notebook import tqdm\n",
    "from sklearn.preprocessing import MinMaxScaler\n",
    "from keras.models import Sequential\n",
    "from keras.layers import Dense, Dropout, LSTM\n",
    "from keras.utils import plot_model\n",
    "\n",
    "#参数\n",
    "stk_path = \"data.csv\"\n",
    "test_size = 0.2                # 测试集比例\n",
    "cv_size = 0.2                  # 交叉验证集比例\n",
    "\n",
    "N = 9                          # 初始特征滞后期数\n",
    "\n",
    "lstm_units=50                  # 初始lstm隐藏单元\n",
    "dropout_prob=0.5               # Dropout层初始丢弃比率\n",
    "optimizer='adam'               # 初始优化器设置为adam\n",
    "epochs=1                       # 初始迭代轮数为1\n",
    "batch_size=1                   # 初始数据规模大小为1\n",
    "\n",
    "model_seed = 100\n",
    "\n",
    "fontsize = 14\n",
    "ticklabelsize = 14\n",
    "####################################\n",
    "\n",
    "# 设置随机种子确保模型一致性及可复现性\n",
    "seed(101)\n",
    "tf.random.set_seed(model_seed)\n",
    "print('参数已加载完毕')"
   ]
  },
  {
   "cell_type": "code",
   "execution_count": 3,
   "metadata": {},
   "outputs": [],
   "source": [
    "def get_mape(y_true, y_pred): \n",
    "    #计算mape\n",
    "    y_true, y_pred = np.array(y_true), np.array(y_pred)\n",
    "    return np.mean(np.abs((y_true - y_pred) / y_true)) * 100\n",
    "\n",
    "def get_x_y(data, N, offset):\n",
    "    \"\"\"\n",
    "    根据滞后期数N分割数据，前N天作为特征，第N天作为目标值\n",
    "    \"\"\"\n",
    "    x, y = [], []\n",
    "    for i in range(offset, len(data)):\n",
    "        x.append(data[i-N:i])\n",
    "        y.append(data[i])\n",
    "    x = np.array(x)\n",
    "    y = np.array(y)\n",
    "    \n",
    "    return x, y\n",
    "\n",
    "def train_pred_eval_model(x_train_scaled, \\\n",
    "                          y_train_scaled, \\\n",
    "                          x_cv_scaled, \\\n",
    "                          y_cv_scaled, \\\n",
    "                          scaler, \\\n",
    "                          lstm_units=50, \\\n",
    "                          dropout_prob=0.5, \\\n",
    "                          optimizer='adam', \\\n",
    "                          epochs=1, \\\n",
    "                          batch_size=1):\n",
    "\n",
    "    # 创建lstm模型\n",
    "    model = Sequential()\n",
    "    model.add(LSTM(units=lstm_units, return_sequences=True, input_shape=(x_train_scaled.shape[1],1)))\n",
    "    model.add(Dropout(dropout_prob)) # Add dropout with a probability of 0.5\n",
    "    model.add(LSTM(units=lstm_units*2))\n",
    "    model.add(Dropout(dropout_prob)) # Add dropout with a probability of 0.5\n",
    "    model.add(Dense(1))\n",
    "\n",
    "    # 选用均方差作为损失函数，设置优化器\n",
    "    model.compile(loss='mean_squared_error', optimizer=optimizer)\n",
    "    model.fit(x_train_scaled, y_train_scaled, epochs=epochs, batch_size=batch_size, verbose=0)\n",
    "    \n",
    "    #预测\n",
    "    est_scaled = model.predict(x_cv_scaled)\n",
    "    est = scaler.inverse_transform(est_scaled)\n",
    "    \n",
    "\n",
    "    y_cv = scaler.inverse_transform(y_cv_scaled)\n",
    "\n",
    "    #计算RMSE\n",
    "    rmse = math.sqrt(mean_squared_error(y_cv, est))\n",
    "    mape = get_mape(y_cv, est)\n",
    "    \n",
    "    return rmse, mape, est"
   ]
  },
  {
   "cell_type": "code",
   "execution_count": 4,
   "metadata": {},
   "outputs": [
    {
     "data": {
      "text/html": [
       "<div>\n",
       "<style scoped>\n",
       "    .dataframe tbody tr th:only-of-type {\n",
       "        vertical-align: middle;\n",
       "    }\n",
       "\n",
       "    .dataframe tbody tr th {\n",
       "        vertical-align: top;\n",
       "    }\n",
       "\n",
       "    .dataframe thead th {\n",
       "        text-align: right;\n",
       "    }\n",
       "</style>\n",
       "<table border=\"1\" class=\"dataframe\">\n",
       "  <thead>\n",
       "    <tr style=\"text-align: right;\">\n",
       "      <th></th>\n",
       "      <th>date</th>\n",
       "      <th>open</th>\n",
       "      <th>high</th>\n",
       "      <th>low</th>\n",
       "      <th>close</th>\n",
       "      <th>adj_close</th>\n",
       "      <th>volume</th>\n",
       "      <th>month</th>\n",
       "    </tr>\n",
       "  </thead>\n",
       "  <tbody>\n",
       "    <tr>\n",
       "      <th>0</th>\n",
       "      <td>2021-01-04</td>\n",
       "      <td>19.10</td>\n",
       "      <td>19.10</td>\n",
       "      <td>18.44</td>\n",
       "      <td>18.60</td>\n",
       "      <td>18.1348</td>\n",
       "      <td>155421643</td>\n",
       "      <td>1</td>\n",
       "    </tr>\n",
       "    <tr>\n",
       "      <th>1</th>\n",
       "      <td>2021-01-05</td>\n",
       "      <td>18.40</td>\n",
       "      <td>18.48</td>\n",
       "      <td>17.80</td>\n",
       "      <td>18.17</td>\n",
       "      <td>17.7155</td>\n",
       "      <td>182135210</td>\n",
       "      <td>1</td>\n",
       "    </tr>\n",
       "    <tr>\n",
       "      <th>2</th>\n",
       "      <td>2021-01-06</td>\n",
       "      <td>18.08</td>\n",
       "      <td>19.56</td>\n",
       "      <td>18.00</td>\n",
       "      <td>19.56</td>\n",
       "      <td>19.0707</td>\n",
       "      <td>193494512</td>\n",
       "      <td>1</td>\n",
       "    </tr>\n",
       "    <tr>\n",
       "      <th>3</th>\n",
       "      <td>2021-01-07</td>\n",
       "      <td>19.52</td>\n",
       "      <td>19.98</td>\n",
       "      <td>19.23</td>\n",
       "      <td>19.90</td>\n",
       "      <td>19.4022</td>\n",
       "      <td>158418530</td>\n",
       "      <td>1</td>\n",
       "    </tr>\n",
       "    <tr>\n",
       "      <th>4</th>\n",
       "      <td>2021-01-08</td>\n",
       "      <td>19.90</td>\n",
       "      <td>20.10</td>\n",
       "      <td>19.31</td>\n",
       "      <td>19.85</td>\n",
       "      <td>19.3535</td>\n",
       "      <td>119547322</td>\n",
       "      <td>1</td>\n",
       "    </tr>\n",
       "  </tbody>\n",
       "</table>\n",
       "</div>"
      ],
      "text/plain": [
       "        date   open   high    low  close  adj_close     volume  month\n",
       "0 2021-01-04  19.10  19.10  18.44  18.60    18.1348  155421643      1\n",
       "1 2021-01-05  18.40  18.48  17.80  18.17    17.7155  182135210      1\n",
       "2 2021-01-06  18.08  19.56  18.00  19.56    19.0707  193494512      1\n",
       "3 2021-01-07  19.52  19.98  19.23  19.90    19.4022  158418530      1\n",
       "4 2021-01-08  19.90  20.10  19.31  19.85    19.3535  119547322      1"
      ]
     },
     "execution_count": 4,
     "metadata": {},
     "output_type": "execute_result"
    }
   ],
   "source": [
    "#将日期的月份作为新的一列参数\n",
    "df = pd.read_csv(stk_path, sep =\",\")\n",
    "\n",
    "\n",
    "df['Date'] = pd.to_datetime(df['Date'])\n",
    "\n",
    "\n",
    "\n",
    "df.columns = [str(x).lower().replace(' ', '_') for x in df.columns]\n",
    "\n",
    "\n",
    "df['month'] = df['date'].dt.month\n",
    "\n",
    "\n",
    "df.sort_values(by='date', inplace=True, ascending=True)\n",
    "\n",
    "df.head()"
   ]
  },
  {
   "cell_type": "code",
   "execution_count": 5,
   "metadata": {},
   "outputs": [
    {
     "data": {
      "text/plain": [
       "Text(0, 0.5, 'price')"
      ]
     },
     "execution_count": 5,
     "metadata": {},
     "output_type": "execute_result"
    },
    {
     "data": {
      "image/png": "[encoded data removed]",
      "text/plain": [
       "<Figure size 720x576 with 1 Axes>"
      ]
     },
     "metadata": {
      "needs_background": "light"
     },
     "output_type": "display_data"
    }
   ],
   "source": [
    "#可视化\n",
    "rcParams['figure.figsize'] = 10, 8\n",
    "\n",
    "ax = df.plot(x='date', y='adj_close', style='b-', grid=True)\n",
    "ax.set_xlabel(\"date\")\n",
    "ax.set_ylabel(\"price\")"
   ]
  },
  {
   "cell_type": "code",
   "execution_count": 6,
   "metadata": {},
   "outputs": [
    {
     "name": "stdout",
     "output_type": "stream",
     "text": [
      "num_train = 471\n",
      "num_cv = 157\n",
      "num_test = 157\n",
      "train.shape = (471, 2)\n",
      "cv.shape = (157, 2)\n",
      "train_cv.shape = (628, 2)\n",
      "test.shape = (157, 2)\n"
     ]
    }
   ],
   "source": [
    "#显示训练集，交叉验证集和测试集的形状\n",
    "num_cv = int(cv_size*len(df))\n",
    "num_test = int(test_size*len(df))\n",
    "num_train = len(df) - num_cv - num_test\n",
    "print(\"num_train = \" + str(num_train))\n",
    "print(\"num_cv = \" + str(num_cv))\n",
    "print(\"num_test = \" + str(num_test))\n",
    "\n",
    "#选用日期和调整后收盘指数作为特征，分割\n",
    "train = df[:num_train][['date', 'adj_close']]\n",
    "cv = df[num_train:num_train+num_cv][['date', 'adj_close']]\n",
    "train_cv = df[:num_train+num_cv][['date', 'adj_close']]\n",
    "test = df[num_train+num_cv:][['date', 'adj_close']]\n",
    "\n",
    "print(\"train.shape = \" + str(train.shape))\n",
    "print(\"cv.shape = \" + str(cv.shape))\n",
    "print(\"train_cv.shape = \" + str(train_cv.shape))\n",
    "print(\"test.shape = \" + str(test.shape))"
   ]
  },
  {
   "cell_type": "code",
   "execution_count": 7,
   "metadata": {},
   "outputs": [
    {
     "name": "stdout",
     "output_type": "stream",
     "text": [
      "scaler.data_min_ = [10.34]\n",
      "scaler.data_max_ = [24.5726]\n",
      "x_train.shape = (462, 9, 1)\n",
      "y_train.shape = (462, 1)\n"
     ]
    }
   ],
   "source": [
    "#分割训练集\n",
    "scaler = MinMaxScaler(feature_range=(0, 1)) \n",
    "train_scaled = scaler.fit_transform(np.array(train['adj_close']).reshape(-1,1)) #对训练数据标准化并转化为二维\n",
    "print(\"scaler.data_min_ = \" + str(scaler.data_min_))\n",
    "print(\"scaler.data_max_ = \" + str(scaler.data_max_))\n",
    "\n",
    "# 分割特征和标签\n",
    "x_train, y_train = get_x_y(train_scaled, N, N)\n",
    "print(\"x_train.shape = \" + str(x_train.shape))\n",
    "print(\"y_train.shape = \" + str(y_train.shape))\n",
    "#显示形状"
   ]
  },
  {
   "cell_type": "code",
   "execution_count": 8,
   "metadata": {},
   "outputs": [
    {
     "name": "stdout",
     "output_type": "stream",
     "text": [
      "x_cv.shape = (157, 9, 1)\n",
      "y_cv.shape = (157, 1)\n"
     ]
    }
   ],
   "source": [
    "train_cv_scaled  = scaler.transform(np.array(train_cv['adj_close']).reshape(-1,1)) #对交叉验证集标准化并转化为二维\n",
    "# 分割特征和标签\n",
    "x_cv, y_cv = get_x_y(train_cv_scaled, N, num_train)\n",
    "print(\"x_cv.shape = \" + str(x_cv.shape))\n",
    "print(\"y_cv.shape = \" + str(y_cv.shape))"
   ]
  },
  {
   "cell_type": "code",
   "execution_count": 9,
   "metadata": {},
   "outputs": [
    {
     "name": "stdout",
     "output_type": "stream",
     "text": [
      "scaler_final.data_min_ = [10.34]\n",
      "scaler_final.data_max_ = [24.5726]\n"
     ]
    }
   ],
   "source": [
    "scaler_final = MinMaxScaler(feature_range=(0, 1))\n",
    "train_cv_scaled_final = scaler_final.fit_transform(np.array(train_cv['adj_close']).reshape(-1,1)) #对训练集的标准化器对测试集处理，保证数据合理\n",
    "print(\"scaler_final.data_min_ = \" + str(scaler_final.data_min_)) \n",
    "print(\"scaler_final.data_max_ = \" + str(scaler_final.data_max_))\n",
    "\n",
    "\n",
    "test_scaled  = scaler_final.transform(np.array(df['adj_close']).reshape(-1,1))"
   ]
  },
  {
   "cell_type": "code",
   "execution_count": 10,
   "metadata": {},
   "outputs": [
    {
     "name": "stdout",
     "output_type": "stream",
     "text": [
      "462/462 - 4s - loss: 0.0205 - 4s/epoch - 9ms/step\n"
     ]
    },
    {
     "data": {
      "text/plain": [
       "<keras.src.callbacks.History at 0x29b6d49f400>"
      ]
     },
     "execution_count": 10,
     "metadata": {},
     "output_type": "execute_result"
    }
   ],
   "source": [
    "#构造一个相同的模型\n",
    "model = Sequential()\n",
    "model.add(LSTM(units=lstm_units, return_sequences=True, input_shape=(x_train.shape[1],1)))\n",
    "model.add(Dropout(dropout_prob))\n",
    "model.add(LSTM(units=lstm_units*2))\n",
    "model.add(Dropout(dropout_prob))\n",
    "model.add(Dense(1))\n",
    "\n",
    "model.compile(loss='mean_squared_error', optimizer=optimizer)\n",
    "model.fit(x_train, y_train, epochs=epochs, batch_size=batch_size, verbose=2)"
   ]
  },
  {
   "cell_type": "code",
   "execution_count": 11,
   "metadata": {},
   "outputs": [
    {
     "name": "stdout",
     "output_type": "stream",
     "text": [
      "Model: \"sequential\"\n",
      "_________________________________________________________________\n",
      " Layer (type)                Output Shape              Param #   \n",
      "=================================================================\n",
      " lstm (LSTM)                 (None, 9, 50)             10400     \n",
      "                                                                 \n",
      " dropout (Dropout)           (None, 9, 50)             0         \n",
      "                                                                 \n",
      " lstm_1 (LSTM)               (None, 100)               60400     \n",
      "                                                                 \n",
      " dropout_1 (Dropout)         (None, 100)               0         \n",
      "                                                                 \n",
      " dense (Dense)               (None, 1)                 101       \n",
      "                                                                 \n",
      "=================================================================\n",
      "Total params: 70901 (276.96 KB)\n",
      "Trainable params: 70901 (276.96 KB)\n",
      "Non-trainable params: 0 (0.00 Byte)\n",
      "_________________________________________________________________\n"
     ]
    }
   ],
   "source": [
    "# 显示模型结构\n",
    "model.summary()"
   ]
  },
  {
   "cell_type": "code",
   "execution_count": 12,
   "metadata": {},
   "outputs": [
    {
     "data": {
      "image/png": "[encoded data removed]",
      "text/plain": [
       "<IPython.core.display.Image object>"
      ]
     },
     "execution_count": 12,
     "metadata": {},
     "output_type": "execute_result"
    }
   ],
   "source": [
    "#模型结构图\n",
    "plot_model(model, to_file='model.png')"
   ]
  },
  {
   "cell_type": "code",
   "execution_count": 13,
   "metadata": {},
   "outputs": [
    {
     "name": "stdout",
     "output_type": "stream",
     "text": [
      "5/5 [==============================] - 1s 3ms/step\n",
      "RMSE = 1.361\n",
      "MAPE = 10.066%\n"
     ]
    }
   ],
   "source": [
    "# 用交叉验证集进行预测\n",
    "est = model.predict(x_cv)\n",
    "est_inv = scaler.inverse_transform(est)\n",
    "\n",
    "\n",
    "y_cv_inv = scaler.inverse_transform(y_cv)\n",
    "\n",
    "\n",
    "rmse_bef_tuning = math.sqrt(mean_squared_error(y_cv_inv, est_inv))\n",
    "print(\"RMSE = %0.3f\" % rmse_bef_tuning)\n",
    "\n",
    "mape_pct_bef_tuning = get_mape(y_cv_inv, est_inv)\n",
    "print(\"MAPE = %0.3f%%\" % mape_pct_bef_tuning)"
   ]
  },
  {
   "cell_type": "code",
   "execution_count": 14,
   "metadata": {},
   "outputs": [
    {
     "data": {
      "text/plain": [
       "Text(0, 0.5, 'Price')"
      ]
     },
     "execution_count": 14,
     "metadata": {},
     "output_type": "execute_result"
    },
    {
     "data": {
      "image/png": "[encoded data removed]",
      "text/plain": [
       "<Figure size 720x576 with 1 Axes>"
      ]
     },
     "metadata": {
      "needs_background": "light"
     },
     "output_type": "display_data"
    }
   ],
   "source": [
    "# 绘图查看与实际值的差异\n",
    "rcParams['figure.figsize'] = 10, 8 # width 10, height 8\n",
    "\n",
    "est_df = pd.DataFrame({'est_inv': est_inv.reshape(-1), \n",
    "                       'y_cv_inv': y_cv_inv.reshape(-1),\n",
    "                       'date': cv['date']})\n",
    "\n",
    "ax = train.plot(x='date', y='adj_close', style='b-', grid=True)\n",
    "ax = cv.plot(x='date', y='adj_close', style='y-', grid=True, ax=ax)\n",
    "ax = test.plot(x='date', y='adj_close', style='g-', grid=True, ax=ax)\n",
    "ax = est_df.plot(x='date', y='est_inv', style='r-', grid=True, ax=ax)\n",
    "ax.legend(['train', 'dev', 'test', 'est'])\n",
    "ax.set_xlabel(\"date\")\n",
    "ax.set_ylabel(\"Price\")"
   ]
  },
  {
   "cell_type": "code",
   "execution_count": 15,
   "metadata": {},
   "outputs": [
    {
     "data": {
      "application/vnd.jupyter.widget-view+json": {
       "model_id": "15d9ad68ac5248a48a0646468e53bfe9",
       "version_major": 2,
       "version_minor": 0
      },
      "text/plain": [
       "  0%|          | 0/58 [00:00<?, ?it/s]"
      ]
     },
     "metadata": {},
     "output_type": "display_data"
    },
    {
     "name": "stdout",
     "output_type": "stream",
     "text": [
      "5/5 [==============================] - 1s 2ms/step\n",
      "5/5 [==============================] - 1s 2ms/step\n",
      "5/5 [==============================] - 1s 2ms/step\n",
      "5/5 [==============================] - 1s 2ms/step\n",
      "5/5 [==============================] - 1s 2ms/step\n",
      "5/5 [==============================] - 1s 3ms/step\n",
      "5/5 [==============================] - 1s 2ms/step\n",
      "5/5 [==============================] - 1s 4ms/step\n",
      "5/5 [==============================] - 0s 3ms/step\n",
      "5/5 [==============================] - 1s 5ms/step\n",
      "5/5 [==============================] - 1s 3ms/step\n",
      "5/5 [==============================] - 1s 5ms/step\n",
      "5/5 [==============================] - 1s 5ms/step\n",
      "5/5 [==============================] - 1s 6ms/step\n",
      "5/5 [==============================] - 1s 5ms/step\n",
      "5/5 [==============================] - 1s 6ms/step\n",
      "5/5 [==============================] - 1s 6ms/step\n",
      "5/5 [==============================] - 1s 6ms/step\n",
      "5/5 [==============================] - 1s 7ms/step\n",
      "5/5 [==============================] - 1s 7ms/step\n",
      "5/5 [==============================] - 1s 8ms/step\n",
      "5/5 [==============================] - 1s 7ms/step\n",
      "5/5 [==============================] - 1s 9ms/step\n",
      "5/5 [==============================] - 1s 8ms/step\n",
      "5/5 [==============================] - 1s 9ms/step\n",
      "5/5 [==============================] - 1s 10ms/step\n",
      "5/5 [==============================] - 1s 9ms/step\n",
      "5/5 [==============================] - 1s 10ms/step\n",
      "5/5 [==============================] - 1s 10ms/step\n",
      "5/5 [==============================] - 1s 10ms/step\n",
      "5/5 [==============================] - 1s 10ms/step\n",
      "5/5 [==============================] - 1s 10ms/step\n",
      "5/5 [==============================] - 1s 10ms/step\n",
      "5/5 [==============================] - 1s 11ms/step\n",
      "5/5 [==============================] - 1s 12ms/step\n",
      "5/5 [==============================] - 1s 12ms/step\n",
      "5/5 [==============================] - 1s 11ms/step\n",
      "5/5 [==============================] - 1s 12ms/step\n",
      "5/5 [==============================] - 1s 12ms/step\n",
      "5/5 [==============================] - 1s 13ms/step\n",
      "5/5 [==============================] - 1s 13ms/step\n",
      "5/5 [==============================] - 1s 13ms/step\n",
      "5/5 [==============================] - 1s 14ms/step\n",
      "5/5 [==============================] - 1s 13ms/step\n",
      "5/5 [==============================] - 1s 14ms/step\n",
      "5/5 [==============================] - 1s 14ms/step\n",
      "5/5 [==============================] - 1s 14ms/step\n",
      "5/5 [==============================] - 1s 15ms/step\n",
      "5/5 [==============================] - 1s 15ms/step\n",
      "5/5 [==============================] - 1s 15ms/step\n",
      "5/5 [==============================] - 1s 15ms/step\n",
      "5/5 [==============================] - 1s 16ms/step\n",
      "5/5 [==============================] - 1s 16ms/step\n",
      "5/5 [==============================] - 1s 16ms/step\n",
      "5/5 [==============================] - 1s 16ms/step\n",
      "5/5 [==============================] - 1s 16ms/step\n",
      "5/5 [==============================] - 1s 18ms/step\n",
      "5/5 [==============================] - 1s 19ms/step\n",
      "Minutes taken = 7.006419432163239\n"
     ]
    },
    {
     "data": {
      "text/html": [
       "<div>\n",
       "<style scoped>\n",
       "    .dataframe tbody tr th:only-of-type {\n",
       "        vertical-align: middle;\n",
       "    }\n",
       "\n",
       "    .dataframe tbody tr th {\n",
       "        vertical-align: top;\n",
       "    }\n",
       "\n",
       "    .dataframe thead th {\n",
       "        text-align: right;\n",
       "    }\n",
       "</style>\n",
       "<table border=\"1\" class=\"dataframe\">\n",
       "  <thead>\n",
       "    <tr style=\"text-align: right;\">\n",
       "      <th></th>\n",
       "      <th>N</th>\n",
       "      <th>rmse</th>\n",
       "      <th>mape_pct</th>\n",
       "    </tr>\n",
       "  </thead>\n",
       "  <tbody>\n",
       "    <tr>\n",
       "      <th>0</th>\n",
       "      <td>2</td>\n",
       "      <td>0.329362</td>\n",
       "      <td>2.013677</td>\n",
       "    </tr>\n",
       "    <tr>\n",
       "      <th>1</th>\n",
       "      <td>3</td>\n",
       "      <td>0.447980</td>\n",
       "      <td>3.196058</td>\n",
       "    </tr>\n",
       "    <tr>\n",
       "      <th>2</th>\n",
       "      <td>4</td>\n",
       "      <td>0.416267</td>\n",
       "      <td>2.291683</td>\n",
       "    </tr>\n",
       "    <tr>\n",
       "      <th>3</th>\n",
       "      <td>5</td>\n",
       "      <td>1.005083</td>\n",
       "      <td>7.632041</td>\n",
       "    </tr>\n",
       "    <tr>\n",
       "      <th>4</th>\n",
       "      <td>6</td>\n",
       "      <td>0.451175</td>\n",
       "      <td>2.629179</td>\n",
       "    </tr>\n",
       "    <tr>\n",
       "      <th>5</th>\n",
       "      <td>7</td>\n",
       "      <td>0.606967</td>\n",
       "      <td>4.324297</td>\n",
       "    </tr>\n",
       "    <tr>\n",
       "      <th>6</th>\n",
       "      <td>8</td>\n",
       "      <td>0.608202</td>\n",
       "      <td>3.884384</td>\n",
       "    </tr>\n",
       "    <tr>\n",
       "      <th>7</th>\n",
       "      <td>9</td>\n",
       "      <td>1.266976</td>\n",
       "      <td>9.512817</td>\n",
       "    </tr>\n",
       "    <tr>\n",
       "      <th>8</th>\n",
       "      <td>10</td>\n",
       "      <td>0.751833</td>\n",
       "      <td>5.380511</td>\n",
       "    </tr>\n",
       "    <tr>\n",
       "      <th>9</th>\n",
       "      <td>11</td>\n",
       "      <td>0.463277</td>\n",
       "      <td>2.785808</td>\n",
       "    </tr>\n",
       "    <tr>\n",
       "      <th>10</th>\n",
       "      <td>12</td>\n",
       "      <td>0.471608</td>\n",
       "      <td>2.772844</td>\n",
       "    </tr>\n",
       "    <tr>\n",
       "      <th>11</th>\n",
       "      <td>13</td>\n",
       "      <td>0.548390</td>\n",
       "      <td>2.761446</td>\n",
       "    </tr>\n",
       "    <tr>\n",
       "      <th>12</th>\n",
       "      <td>14</td>\n",
       "      <td>0.654978</td>\n",
       "      <td>4.674835</td>\n",
       "    </tr>\n",
       "    <tr>\n",
       "      <th>13</th>\n",
       "      <td>15</td>\n",
       "      <td>0.586652</td>\n",
       "      <td>3.480026</td>\n",
       "    </tr>\n",
       "    <tr>\n",
       "      <th>14</th>\n",
       "      <td>16</td>\n",
       "      <td>0.586722</td>\n",
       "      <td>4.101982</td>\n",
       "    </tr>\n",
       "    <tr>\n",
       "      <th>15</th>\n",
       "      <td>17</td>\n",
       "      <td>0.490702</td>\n",
       "      <td>2.871690</td>\n",
       "    </tr>\n",
       "    <tr>\n",
       "      <th>16</th>\n",
       "      <td>18</td>\n",
       "      <td>0.897554</td>\n",
       "      <td>6.308282</td>\n",
       "    </tr>\n",
       "    <tr>\n",
       "      <th>17</th>\n",
       "      <td>19</td>\n",
       "      <td>0.490741</td>\n",
       "      <td>2.872786</td>\n",
       "    </tr>\n",
       "    <tr>\n",
       "      <th>18</th>\n",
       "      <td>20</td>\n",
       "      <td>0.600705</td>\n",
       "      <td>4.046208</td>\n",
       "    </tr>\n",
       "    <tr>\n",
       "      <th>19</th>\n",
       "      <td>21</td>\n",
       "      <td>0.800023</td>\n",
       "      <td>4.323201</td>\n",
       "    </tr>\n",
       "    <tr>\n",
       "      <th>20</th>\n",
       "      <td>22</td>\n",
       "      <td>0.498627</td>\n",
       "      <td>2.530617</td>\n",
       "    </tr>\n",
       "    <tr>\n",
       "      <th>21</th>\n",
       "      <td>23</td>\n",
       "      <td>0.544542</td>\n",
       "      <td>3.685306</td>\n",
       "    </tr>\n",
       "    <tr>\n",
       "      <th>22</th>\n",
       "      <td>24</td>\n",
       "      <td>1.087139</td>\n",
       "      <td>7.755991</td>\n",
       "    </tr>\n",
       "    <tr>\n",
       "      <th>23</th>\n",
       "      <td>25</td>\n",
       "      <td>0.763359</td>\n",
       "      <td>4.276078</td>\n",
       "    </tr>\n",
       "    <tr>\n",
       "      <th>24</th>\n",
       "      <td>26</td>\n",
       "      <td>0.473923</td>\n",
       "      <td>2.874109</td>\n",
       "    </tr>\n",
       "    <tr>\n",
       "      <th>25</th>\n",
       "      <td>27</td>\n",
       "      <td>0.757558</td>\n",
       "      <td>4.780529</td>\n",
       "    </tr>\n",
       "    <tr>\n",
       "      <th>26</th>\n",
       "      <td>28</td>\n",
       "      <td>0.538408</td>\n",
       "      <td>3.651291</td>\n",
       "    </tr>\n",
       "    <tr>\n",
       "      <th>27</th>\n",
       "      <td>29</td>\n",
       "      <td>0.542677</td>\n",
       "      <td>2.843372</td>\n",
       "    </tr>\n",
       "    <tr>\n",
       "      <th>28</th>\n",
       "      <td>30</td>\n",
       "      <td>0.487610</td>\n",
       "      <td>2.842448</td>\n",
       "    </tr>\n",
       "    <tr>\n",
       "      <th>29</th>\n",
       "      <td>31</td>\n",
       "      <td>0.591592</td>\n",
       "      <td>3.581015</td>\n",
       "    </tr>\n",
       "    <tr>\n",
       "      <th>30</th>\n",
       "      <td>32</td>\n",
       "      <td>0.516574</td>\n",
       "      <td>3.160834</td>\n",
       "    </tr>\n",
       "    <tr>\n",
       "      <th>31</th>\n",
       "      <td>33</td>\n",
       "      <td>0.475583</td>\n",
       "      <td>3.028525</td>\n",
       "    </tr>\n",
       "    <tr>\n",
       "      <th>32</th>\n",
       "      <td>34</td>\n",
       "      <td>0.478422</td>\n",
       "      <td>2.781596</td>\n",
       "    </tr>\n",
       "    <tr>\n",
       "      <th>33</th>\n",
       "      <td>35</td>\n",
       "      <td>0.691969</td>\n",
       "      <td>4.228888</td>\n",
       "    </tr>\n",
       "    <tr>\n",
       "      <th>34</th>\n",
       "      <td>36</td>\n",
       "      <td>0.569595</td>\n",
       "      <td>3.968230</td>\n",
       "    </tr>\n",
       "    <tr>\n",
       "      <th>35</th>\n",
       "      <td>37</td>\n",
       "      <td>0.468942</td>\n",
       "      <td>2.697740</td>\n",
       "    </tr>\n",
       "    <tr>\n",
       "      <th>36</th>\n",
       "      <td>38</td>\n",
       "      <td>0.465770</td>\n",
       "      <td>2.566124</td>\n",
       "    </tr>\n",
       "    <tr>\n",
       "      <th>37</th>\n",
       "      <td>39</td>\n",
       "      <td>0.733880</td>\n",
       "      <td>4.316499</td>\n",
       "    </tr>\n",
       "    <tr>\n",
       "      <th>38</th>\n",
       "      <td>40</td>\n",
       "      <td>0.596656</td>\n",
       "      <td>3.841848</td>\n",
       "    </tr>\n",
       "    <tr>\n",
       "      <th>39</th>\n",
       "      <td>41</td>\n",
       "      <td>0.720890</td>\n",
       "      <td>5.274602</td>\n",
       "    </tr>\n",
       "    <tr>\n",
       "      <th>40</th>\n",
       "      <td>42</td>\n",
       "      <td>1.133063</td>\n",
       "      <td>8.199604</td>\n",
       "    </tr>\n",
       "    <tr>\n",
       "      <th>41</th>\n",
       "      <td>43</td>\n",
       "      <td>0.710860</td>\n",
       "      <td>5.014777</td>\n",
       "    </tr>\n",
       "    <tr>\n",
       "      <th>42</th>\n",
       "      <td>44</td>\n",
       "      <td>0.495447</td>\n",
       "      <td>2.515380</td>\n",
       "    </tr>\n",
       "    <tr>\n",
       "      <th>43</th>\n",
       "      <td>45</td>\n",
       "      <td>0.683601</td>\n",
       "      <td>4.998286</td>\n",
       "    </tr>\n",
       "    <tr>\n",
       "      <th>44</th>\n",
       "      <td>46</td>\n",
       "      <td>0.662241</td>\n",
       "      <td>4.700140</td>\n",
       "    </tr>\n",
       "    <tr>\n",
       "      <th>45</th>\n",
       "      <td>47</td>\n",
       "      <td>0.821736</td>\n",
       "      <td>5.877011</td>\n",
       "    </tr>\n",
       "    <tr>\n",
       "      <th>46</th>\n",
       "      <td>48</td>\n",
       "      <td>0.478852</td>\n",
       "      <td>2.856292</td>\n",
       "    </tr>\n",
       "    <tr>\n",
       "      <th>47</th>\n",
       "      <td>49</td>\n",
       "      <td>0.483281</td>\n",
       "      <td>3.221929</td>\n",
       "    </tr>\n",
       "    <tr>\n",
       "      <th>48</th>\n",
       "      <td>50</td>\n",
       "      <td>0.586329</td>\n",
       "      <td>3.228777</td>\n",
       "    </tr>\n",
       "    <tr>\n",
       "      <th>49</th>\n",
       "      <td>51</td>\n",
       "      <td>0.512327</td>\n",
       "      <td>3.037784</td>\n",
       "    </tr>\n",
       "    <tr>\n",
       "      <th>50</th>\n",
       "      <td>52</td>\n",
       "      <td>0.504546</td>\n",
       "      <td>2.556879</td>\n",
       "    </tr>\n",
       "    <tr>\n",
       "      <th>51</th>\n",
       "      <td>53</td>\n",
       "      <td>0.569486</td>\n",
       "      <td>3.808687</td>\n",
       "    </tr>\n",
       "    <tr>\n",
       "      <th>52</th>\n",
       "      <td>54</td>\n",
       "      <td>0.617326</td>\n",
       "      <td>3.426951</td>\n",
       "    </tr>\n",
       "    <tr>\n",
       "      <th>53</th>\n",
       "      <td>55</td>\n",
       "      <td>0.733157</td>\n",
       "      <td>5.287167</td>\n",
       "    </tr>\n",
       "    <tr>\n",
       "      <th>54</th>\n",
       "      <td>56</td>\n",
       "      <td>0.489558</td>\n",
       "      <td>3.179153</td>\n",
       "    </tr>\n",
       "    <tr>\n",
       "      <th>55</th>\n",
       "      <td>57</td>\n",
       "      <td>0.625446</td>\n",
       "      <td>3.572377</td>\n",
       "    </tr>\n",
       "    <tr>\n",
       "      <th>56</th>\n",
       "      <td>58</td>\n",
       "      <td>0.798124</td>\n",
       "      <td>5.873567</td>\n",
       "    </tr>\n",
       "    <tr>\n",
       "      <th>57</th>\n",
       "      <td>59</td>\n",
       "      <td>0.486760</td>\n",
       "      <td>2.807414</td>\n",
       "    </tr>\n",
       "  </tbody>\n",
       "</table>\n",
       "</div>"
      ],
      "text/plain": [
       "     N      rmse  mape_pct\n",
       "0    2  0.329362  2.013677\n",
       "1    3  0.447980  3.196058\n",
       "2    4  0.416267  2.291683\n",
       "3    5  1.005083  7.632041\n",
       "4    6  0.451175  2.629179\n",
       "5    7  0.606967  4.324297\n",
       "6    8  0.608202  3.884384\n",
       "7    9  1.266976  9.512817\n",
       "8   10  0.751833  5.380511\n",
       "9   11  0.463277  2.785808\n",
       "10  12  0.471608  2.772844\n",
       "11  13  0.548390  2.761446\n",
       "12  14  0.654978  4.674835\n",
       "13  15  0.586652  3.480026\n",
       "14  16  0.586722  4.101982\n",
       "15  17  0.490702  2.871690\n",
       "16  18  0.897554  6.308282\n",
       "17  19  0.490741  2.872786\n",
       "18  20  0.600705  4.046208\n",
       "19  21  0.800023  4.323201\n",
       "20  22  0.498627  2.530617\n",
       "21  23  0.544542  3.685306\n",
       "22  24  1.087139  7.755991\n",
       "23  25  0.763359  4.276078\n",
       "24  26  0.473923  2.874109\n",
       "25  27  0.757558  4.780529\n",
       "26  28  0.538408  3.651291\n",
       "27  29  0.542677  2.843372\n",
       "28  30  0.487610  2.842448\n",
       "29  31  0.591592  3.581015\n",
       "30  32  0.516574  3.160834\n",
       "31  33  0.475583  3.028525\n",
       "32  34  0.478422  2.781596\n",
       "33  35  0.691969  4.228888\n",
       "34  36  0.569595  3.968230\n",
       "35  37  0.468942  2.697740\n",
       "36  38  0.465770  2.566124\n",
       "37  39  0.733880  4.316499\n",
       "38  40  0.596656  3.841848\n",
       "39  41  0.720890  5.274602\n",
       "40  42  1.133063  8.199604\n",
       "41  43  0.710860  5.014777\n",
       "42  44  0.495447  2.515380\n",
       "43  45  0.683601  4.998286\n",
       "44  46  0.662241  4.700140\n",
       "45  47  0.821736  5.877011\n",
       "46  48  0.478852  2.856292\n",
       "47  49  0.483281  3.221929\n",
       "48  50  0.586329  3.228777\n",
       "49  51  0.512327  3.037784\n",
       "50  52  0.504546  2.556879\n",
       "51  53  0.569486  3.808687\n",
       "52  54  0.617326  3.426951\n",
       "53  55  0.733157  5.287167\n",
       "54  56  0.489558  3.179153\n",
       "55  57  0.625446  3.572377\n",
       "56  58  0.798124  5.873567\n",
       "57  59  0.486760  2.807414"
      ]
     },
     "execution_count": 15,
     "metadata": {},
     "output_type": "execute_result"
    }
   ],
   "source": [
    "#网格搜索，调整特征的滞后期数\n",
    "param_label = 'N'\n",
    "param_list = range(2, 60)\n",
    "\n",
    "error_rate = {param_label: [], 'rmse': [], 'mape_pct': []}\n",
    "tic = time.time()\n",
    "for param in tqdm(param_list):\n",
    "    \n",
    "    # 分割训练集特征和标签\n",
    "    x_train_scaled, y_train_scaled = get_x_y(train_scaled, param, param)\n",
    "\n",
    "    # 分割交叉验证集特征和标签\n",
    "    x_cv_scaled, y_cv_scaled = get_x_y(train_cv_scaled, param, num_train)\n",
    "    \n",
    "    # 训练并得到RMSE和MAPE\n",
    "    rmse, mape, _ = train_pred_eval_model(x_train_scaled, \\\n",
    "                                          y_train_scaled, \\\n",
    "                                          x_cv_scaled, \\\n",
    "                                          y_cv_scaled, \\\n",
    "                                          scaler, \\\n",
    "                                          lstm_units=lstm_units, \\\n",
    "                                          dropout_prob=dropout_prob, \\\n",
    "                                          optimizer='adam', \\\n",
    "                                          epochs=epochs, \\\n",
    "                                          batch_size=batch_size)\n",
    "    \n",
    "    # 收集RMSE和MAPE\n",
    "    error_rate[param_label].append(param)\n",
    "    error_rate['rmse'].append(rmse)\n",
    "    error_rate['mape_pct'].append(mape)\n",
    "    \n",
    "error_rate = pd.DataFrame(error_rate)\n",
    "toc = time.time()\n",
    "print(\"Minutes taken = \" + str((toc-tic)/60.0))\n",
    "error_rate   "
   ]
  },
  {
   "cell_type": "code",
   "execution_count": 17,
   "metadata": {},
   "outputs": [
    {
     "data": {
      "text/plain": [
       "Text(0, 0.5, 'RMSE/MAPE(%)')"
      ]
     },
     "execution_count": 17,
     "metadata": {},
     "output_type": "execute_result"
    },
    {
     "data": {
      "image/png": "[encoded data removed]",
      "text/plain": [
       "<Figure size 720x576 with 1 Axes>"
      ]
     },
     "metadata": {
      "needs_background": "light"
     },
     "output_type": "display_data"
    }
   ],
   "source": [
    "# 对RMSE和MAPE可视化\n",
    "rcParams['figure.figsize'] = 10, 8 # width 10, height 8\n",
    "\n",
    "ax = error_rate.plot(x='N', y='rmse', style='bx-', grid=True)\n",
    "ax = error_rate.plot(x='N', y='mape_pct', style='rx-', grid=True, ax=ax)\n",
    "ax.set_xlabel(\"N\")\n",
    "ax.set_ylabel(\"RMSE/MAPE(%)\")"
   ]
  },
  {
   "cell_type": "code",
   "execution_count": 18,
   "metadata": {},
   "outputs": [
    {
     "name": "stdout",
     "output_type": "stream",
     "text": [
      "min RMSE = 0.329\n",
      "min MAPE = 2.014%\n",
      "optimum N = 2\n"
     ]
    }
   ],
   "source": [
    "# 展示最优参数及对应的RMSE和MAPE\n",
    "temp = error_rate[error_rate['rmse'] == error_rate['rmse'].min()]\n",
    "N_opt = temp['N'].values[0]\n",
    "print(\"min RMSE = %0.3f\" % error_rate['rmse'].min())\n",
    "print(\"min MAPE = %0.3f%%\" % error_rate['mape_pct'].min())\n",
    "print(\"optimum \" + param_label + \" = \" + str(N_opt))"
   ]
  },
  {
   "cell_type": "code",
   "execution_count": 19,
   "metadata": {
    "scrolled": true
   },
   "outputs": [
    {
     "data": {
      "application/vnd.jupyter.widget-view+json": {
       "model_id": "f743fa4bc5334dc1a310dacd1ce06143",
       "version_major": 2,
       "version_minor": 0
      },
      "text/plain": [
       "  0%|          | 0/6 [00:00<?, ?it/s]"
      ]
     },
     "metadata": {},
     "output_type": "display_data"
    },
    {
     "data": {
      "application/vnd.jupyter.widget-view+json": {
       "model_id": "aac5d9471d8f428795deb138e0c9ebea",
       "version_major": 2,
       "version_minor": 0
      },
      "text/plain": [
       "  0%|          | 0/5 [00:00<?, ?it/s]"
      ]
     },
     "metadata": {},
     "output_type": "display_data"
    },
    {
     "name": "stdout",
     "output_type": "stream",
     "text": [
      "5/5 [==============================] - 1s 2ms/step\n",
      "5/5 [==============================] - 1s 4ms/step\n",
      "5/5 [==============================] - 1s 2ms/step\n",
      "5/5 [==============================] - 1s 3ms/step\n",
      "5/5 [==============================] - 1s 2ms/step\n"
     ]
    },
    {
     "data": {
      "application/vnd.jupyter.widget-view+json": {
       "model_id": "a1de96e1e2b7413c811a17bf6151e850",
       "version_major": 2,
       "version_minor": 0
      },
      "text/plain": [
       "  0%|          | 0/5 [00:00<?, ?it/s]"
      ]
     },
     "metadata": {},
     "output_type": "display_data"
    },
    {
     "name": "stdout",
     "output_type": "stream",
     "text": [
      "5/5 [==============================] - 1s 3ms/step\n",
      "5/5 [==============================] - 1s 2ms/step\n",
      "5/5 [==============================] - 1s 2ms/step\n",
      "5/5 [==============================] - 1s 2ms/step\n",
      "5/5 [==============================] - 0s 2ms/step\n"
     ]
    },
    {
     "data": {
      "application/vnd.jupyter.widget-view+json": {
       "model_id": "2f3be3bc7f644cb69429ce77bdcf7271",
       "version_major": 2,
       "version_minor": 0
      },
      "text/plain": [
       "  0%|          | 0/5 [00:00<?, ?it/s]"
      ]
     },
     "metadata": {},
     "output_type": "display_data"
    },
    {
     "name": "stdout",
     "output_type": "stream",
     "text": [
      "5/5 [==============================] - 1s 3ms/step\n",
      "5/5 [==============================] - 1s 2ms/step\n",
      "5/5 [==============================] - 1s 2ms/step\n",
      "5/5 [==============================] - 1s 2ms/step\n",
      "5/5 [==============================] - 1s 3ms/step\n"
     ]
    },
    {
     "data": {
      "application/vnd.jupyter.widget-view+json": {
       "model_id": "40548a4d1ae54d7e96b7d778803f8f79",
       "version_major": 2,
       "version_minor": 0
      },
      "text/plain": [
       "  0%|          | 0/5 [00:00<?, ?it/s]"
      ]
     },
     "metadata": {},
     "output_type": "display_data"
    },
    {
     "name": "stdout",
     "output_type": "stream",
     "text": [
      "5/5 [==============================] - 1s 3ms/step\n",
      "5/5 [==============================] - 1s 3ms/step\n",
      "5/5 [==============================] - 1s 2ms/step\n",
      "5/5 [==============================] - 1s 2ms/step\n",
      "5/5 [==============================] - 1s 2ms/step\n"
     ]
    },
    {
     "data": {
      "application/vnd.jupyter.widget-view+json": {
       "model_id": "cb075b9963474ffc952ab85801e408c9",
       "version_major": 2,
       "version_minor": 0
      },
      "text/plain": [
       "  0%|          | 0/5 [00:00<?, ?it/s]"
      ]
     },
     "metadata": {},
     "output_type": "display_data"
    },
    {
     "name": "stdout",
     "output_type": "stream",
     "text": [
      "5/5 [==============================] - 1s 2ms/step\n",
      "5/5 [==============================] - 1s 2ms/step\n",
      "5/5 [==============================] - 1s 3ms/step\n",
      "5/5 [==============================] - 1s 4ms/step\n",
      "5/5 [==============================] - 1s 2ms/step\n"
     ]
    },
    {
     "data": {
      "application/vnd.jupyter.widget-view+json": {
       "model_id": "e6bcbd824f414a29a67d06dd0d4485a3",
       "version_major": 2,
       "version_minor": 0
      },
      "text/plain": [
       "  0%|          | 0/5 [00:00<?, ?it/s]"
      ]
     },
     "metadata": {},
     "output_type": "display_data"
    },
    {
     "name": "stdout",
     "output_type": "stream",
     "text": [
      "5/5 [==============================] - 1s 2ms/step\n",
      "5/5 [==============================] - 1s 2ms/step\n",
      "5/5 [==============================] - 1s 2ms/step\n",
      "5/5 [==============================] - 1s 3ms/step\n",
      "5/5 [==============================] - 1s 2ms/step\n",
      "Minutes taken = 2.875861406326294\n"
     ]
    },
    {
     "data": {
      "text/html": [
       "<div>\n",
       "<style scoped>\n",
       "    .dataframe tbody tr th:only-of-type {\n",
       "        vertical-align: middle;\n",
       "    }\n",
       "\n",
       "    .dataframe tbody tr th {\n",
       "        vertical-align: top;\n",
       "    }\n",
       "\n",
       "    .dataframe thead th {\n",
       "        text-align: right;\n",
       "    }\n",
       "</style>\n",
       "<table border=\"1\" class=\"dataframe\">\n",
       "  <thead>\n",
       "    <tr style=\"text-align: right;\">\n",
       "      <th></th>\n",
       "      <th>epochs</th>\n",
       "      <th>batch_size</th>\n",
       "      <th>rmse</th>\n",
       "      <th>mape_pct</th>\n",
       "    </tr>\n",
       "  </thead>\n",
       "  <tbody>\n",
       "    <tr>\n",
       "      <th>0</th>\n",
       "      <td>1</td>\n",
       "      <td>8</td>\n",
       "      <td>2.055870</td>\n",
       "      <td>16.009929</td>\n",
       "    </tr>\n",
       "    <tr>\n",
       "      <th>1</th>\n",
       "      <td>1</td>\n",
       "      <td>16</td>\n",
       "      <td>3.133646</td>\n",
       "      <td>24.728542</td>\n",
       "    </tr>\n",
       "    <tr>\n",
       "      <th>2</th>\n",
       "      <td>1</td>\n",
       "      <td>32</td>\n",
       "      <td>0.952126</td>\n",
       "      <td>5.772380</td>\n",
       "    </tr>\n",
       "    <tr>\n",
       "      <th>3</th>\n",
       "      <td>1</td>\n",
       "      <td>64</td>\n",
       "      <td>1.668215</td>\n",
       "      <td>9.784284</td>\n",
       "    </tr>\n",
       "    <tr>\n",
       "      <th>4</th>\n",
       "      <td>1</td>\n",
       "      <td>128</td>\n",
       "      <td>2.193690</td>\n",
       "      <td>14.373190</td>\n",
       "    </tr>\n",
       "    <tr>\n",
       "      <th>5</th>\n",
       "      <td>10</td>\n",
       "      <td>8</td>\n",
       "      <td>0.268729</td>\n",
       "      <td>1.737712</td>\n",
       "    </tr>\n",
       "    <tr>\n",
       "      <th>6</th>\n",
       "      <td>10</td>\n",
       "      <td>16</td>\n",
       "      <td>0.302933</td>\n",
       "      <td>2.031354</td>\n",
       "    </tr>\n",
       "    <tr>\n",
       "      <th>7</th>\n",
       "      <td>10</td>\n",
       "      <td>32</td>\n",
       "      <td>0.392404</td>\n",
       "      <td>2.745544</td>\n",
       "    </tr>\n",
       "    <tr>\n",
       "      <th>8</th>\n",
       "      <td>10</td>\n",
       "      <td>64</td>\n",
       "      <td>1.312881</td>\n",
       "      <td>10.104902</td>\n",
       "    </tr>\n",
       "    <tr>\n",
       "      <th>9</th>\n",
       "      <td>10</td>\n",
       "      <td>128</td>\n",
       "      <td>2.702432</td>\n",
       "      <td>21.290675</td>\n",
       "    </tr>\n",
       "    <tr>\n",
       "      <th>10</th>\n",
       "      <td>20</td>\n",
       "      <td>8</td>\n",
       "      <td>0.261128</td>\n",
       "      <td>1.610584</td>\n",
       "    </tr>\n",
       "    <tr>\n",
       "      <th>11</th>\n",
       "      <td>20</td>\n",
       "      <td>16</td>\n",
       "      <td>0.253137</td>\n",
       "      <td>1.565971</td>\n",
       "    </tr>\n",
       "    <tr>\n",
       "      <th>12</th>\n",
       "      <td>20</td>\n",
       "      <td>32</td>\n",
       "      <td>0.353922</td>\n",
       "      <td>2.463734</td>\n",
       "    </tr>\n",
       "    <tr>\n",
       "      <th>13</th>\n",
       "      <td>20</td>\n",
       "      <td>64</td>\n",
       "      <td>0.398467</td>\n",
       "      <td>2.794489</td>\n",
       "    </tr>\n",
       "    <tr>\n",
       "      <th>14</th>\n",
       "      <td>20</td>\n",
       "      <td>128</td>\n",
       "      <td>1.204364</td>\n",
       "      <td>9.220346</td>\n",
       "    </tr>\n",
       "    <tr>\n",
       "      <th>15</th>\n",
       "      <td>30</td>\n",
       "      <td>8</td>\n",
       "      <td>0.268659</td>\n",
       "      <td>1.718678</td>\n",
       "    </tr>\n",
       "    <tr>\n",
       "      <th>16</th>\n",
       "      <td>30</td>\n",
       "      <td>16</td>\n",
       "      <td>0.347613</td>\n",
       "      <td>2.365990</td>\n",
       "    </tr>\n",
       "    <tr>\n",
       "      <th>17</th>\n",
       "      <td>30</td>\n",
       "      <td>32</td>\n",
       "      <td>0.283614</td>\n",
       "      <td>1.878633</td>\n",
       "    </tr>\n",
       "    <tr>\n",
       "      <th>18</th>\n",
       "      <td>30</td>\n",
       "      <td>64</td>\n",
       "      <td>0.313656</td>\n",
       "      <td>2.105920</td>\n",
       "    </tr>\n",
       "    <tr>\n",
       "      <th>19</th>\n",
       "      <td>30</td>\n",
       "      <td>128</td>\n",
       "      <td>0.398323</td>\n",
       "      <td>2.796633</td>\n",
       "    </tr>\n",
       "    <tr>\n",
       "      <th>20</th>\n",
       "      <td>40</td>\n",
       "      <td>8</td>\n",
       "      <td>0.267238</td>\n",
       "      <td>1.713095</td>\n",
       "    </tr>\n",
       "    <tr>\n",
       "      <th>21</th>\n",
       "      <td>40</td>\n",
       "      <td>16</td>\n",
       "      <td>0.296119</td>\n",
       "      <td>1.692252</td>\n",
       "    </tr>\n",
       "    <tr>\n",
       "      <th>22</th>\n",
       "      <td>40</td>\n",
       "      <td>32</td>\n",
       "      <td>0.272987</td>\n",
       "      <td>1.773527</td>\n",
       "    </tr>\n",
       "    <tr>\n",
       "      <th>23</th>\n",
       "      <td>40</td>\n",
       "      <td>64</td>\n",
       "      <td>0.413749</td>\n",
       "      <td>2.956550</td>\n",
       "    </tr>\n",
       "    <tr>\n",
       "      <th>24</th>\n",
       "      <td>40</td>\n",
       "      <td>128</td>\n",
       "      <td>0.326005</td>\n",
       "      <td>2.213096</td>\n",
       "    </tr>\n",
       "    <tr>\n",
       "      <th>25</th>\n",
       "      <td>50</td>\n",
       "      <td>8</td>\n",
       "      <td>0.247267</td>\n",
       "      <td>1.468937</td>\n",
       "    </tr>\n",
       "    <tr>\n",
       "      <th>26</th>\n",
       "      <td>50</td>\n",
       "      <td>16</td>\n",
       "      <td>0.262242</td>\n",
       "      <td>1.617449</td>\n",
       "    </tr>\n",
       "    <tr>\n",
       "      <th>27</th>\n",
       "      <td>50</td>\n",
       "      <td>32</td>\n",
       "      <td>0.263265</td>\n",
       "      <td>1.676738</td>\n",
       "    </tr>\n",
       "    <tr>\n",
       "      <th>28</th>\n",
       "      <td>50</td>\n",
       "      <td>64</td>\n",
       "      <td>0.257665</td>\n",
       "      <td>1.624417</td>\n",
       "    </tr>\n",
       "    <tr>\n",
       "      <th>29</th>\n",
       "      <td>50</td>\n",
       "      <td>128</td>\n",
       "      <td>0.311076</td>\n",
       "      <td>2.079840</td>\n",
       "    </tr>\n",
       "  </tbody>\n",
       "</table>\n",
       "</div>"
      ],
      "text/plain": [
       "    epochs  batch_size      rmse   mape_pct\n",
       "0        1           8  2.055870  16.009929\n",
       "1        1          16  3.133646  24.728542\n",
       "2        1          32  0.952126   5.772380\n",
       "3        1          64  1.668215   9.784284\n",
       "4        1         128  2.193690  14.373190\n",
       "5       10           8  0.268729   1.737712\n",
       "6       10          16  0.302933   2.031354\n",
       "7       10          32  0.392404   2.745544\n",
       "8       10          64  1.312881  10.104902\n",
       "9       10         128  2.702432  21.290675\n",
       "10      20           8  0.261128   1.610584\n",
       "11      20          16  0.253137   1.565971\n",
       "12      20          32  0.353922   2.463734\n",
       "13      20          64  0.398467   2.794489\n",
       "14      20         128  1.204364   9.220346\n",
       "15      30           8  0.268659   1.718678\n",
       "16      30          16  0.347613   2.365990\n",
       "17      30          32  0.283614   1.878633\n",
       "18      30          64  0.313656   2.105920\n",
       "19      30         128  0.398323   2.796633\n",
       "20      40           8  0.267238   1.713095\n",
       "21      40          16  0.296119   1.692252\n",
       "22      40          32  0.272987   1.773527\n",
       "23      40          64  0.413749   2.956550\n",
       "24      40         128  0.326005   2.213096\n",
       "25      50           8  0.247267   1.468937\n",
       "26      50          16  0.262242   1.617449\n",
       "27      50          32  0.263265   1.676738\n",
       "28      50          64  0.257665   1.624417\n",
       "29      50         128  0.311076   2.079840"
      ]
     },
     "execution_count": 19,
     "metadata": {},
     "output_type": "execute_result"
    }
   ],
   "source": [
    "#网格搜索，调整训练迭代轮数及每次训练的样本数量\n",
    "param_label = 'epochs'\n",
    "param_list = [1, 10, 20, 30, 40, 50]\n",
    "\n",
    "param2_label = 'batch_size'\n",
    "param2_list = [8, 16, 32, 64, 128]\n",
    "\n",
    "\n",
    "x_train_scaled, y_train_scaled = get_x_y(train_scaled, N_opt, N_opt)\n",
    "\n",
    "\n",
    "x_cv_scaled, y_cv_scaled = get_x_y(train_cv_scaled, N_opt, num_train)\n",
    "\n",
    "error_rate = {param_label: [], param2_label: [], 'rmse': [], 'mape_pct': []}\n",
    "tic = time.time()\n",
    "for param in tqdm(param_list):\n",
    "    \n",
    "    for param2 in tqdm(param2_list):\n",
    "    \n",
    "\n",
    "        rmse, mape, _ = train_pred_eval_model(x_train_scaled, \\\n",
    "                                              y_train_scaled, \\\n",
    "                                              x_cv_scaled, \\\n",
    "                                              y_cv_scaled, \\\n",
    "                                              scaler, \\\n",
    "                                              lstm_units=lstm_units, \\\n",
    "                                              dropout_prob=dropout_prob, \\\n",
    "                                              optimizer='adam', \\\n",
    "                                              epochs=param, \\\n",
    "                                              batch_size=param2)\n",
    "    \n",
    "\n",
    "        error_rate[param_label].append(param)\n",
    "        error_rate[param2_label].append(param2)\n",
    "        error_rate['rmse'].append(rmse)\n",
    "        error_rate['mape_pct'].append(mape)\n",
    "    \n",
    "error_rate = pd.DataFrame(error_rate)\n",
    "toc = time.time()\n",
    "print(\"Minutes taken = \" + str((toc-tic)/60.0))\n",
    "error_rate   "
   ]
  },
  {
   "cell_type": "code",
   "execution_count": 20,
   "metadata": {},
   "outputs": [
    {
     "data": {
      "text/plain": [
       "<matplotlib.legend.Legend at 0x29b790f0c70>"
      ]
     },
     "execution_count": 20,
     "metadata": {},
     "output_type": "execute_result"
    },
    {
     "data": {
      "image/png": "[encoded data removed]",
      "text/plain": [
       "<Figure size 720x576 with 1 Axes>"
      ]
     },
     "metadata": {
      "needs_background": "light"
     },
     "output_type": "display_data"
    }
   ],
   "source": [
    "rcParams['figure.figsize'] = 10, 8 # width 10, height 8\n",
    "temp = error_rate[error_rate[param2_label]==param2_list[0]]\n",
    "ax = temp.plot(x=param_label, y='rmse', style='bs-', grid=True)\n",
    "legend_list = [param2_label + '_' + str(param2_list[0])]\n",
    "\n",
    "color_list = ['r', 'g', 'k', 'y', 'm', 'c', '0.75']\n",
    "for i in range(1,len(param2_list)):\n",
    "    temp = error_rate[error_rate[param2_label]==param2_list[i]]\n",
    "    ax = temp.plot(x=param_label, y='rmse', color=color_list[i%len(color_list)], marker='s', grid=True, ax=ax)\n",
    "    legend_list.append(param2_label + '_' + str(param2_list[i]))\n",
    "\n",
    "ax.set_xlabel(param_label)\n",
    "ax.set_ylabel(\"RMSE\")\n",
    "matplotlib.rcParams.update({'font.size': 14})\n",
    "plt.legend(legend_list, loc='center left', bbox_to_anchor=(1.0, 0.5))"
   ]
  },
  {
   "cell_type": "code",
   "execution_count": 21,
   "metadata": {},
   "outputs": [
    {
     "name": "stdout",
     "output_type": "stream",
     "text": [
      "min RMSE = 0.247\n",
      "min MAPE = 1.469%\n",
      "optimum epochs = 50\n",
      "optimum batch_size = 8\n"
     ]
    }
   ],
   "source": [
    "# 显示最优MAPE，RMSE及其对应参数\n",
    "temp = error_rate[error_rate['rmse'] == error_rate['rmse'].min()]\n",
    "epochs_opt = temp[param_label].values[0]\n",
    "batch_size_opt = temp[param2_label].values[0]\n",
    "print(\"min RMSE = %0.3f\" % error_rate['rmse'].min())\n",
    "print(\"min MAPE = %0.3f%%\" % error_rate['mape_pct'].min())\n",
    "print(\"optimum \" + param_label + \" = \" + str(epochs_opt))\n",
    "print(\"optimum \" + param2_label + \" = \" + str(batch_size_opt))"
   ]
  },
  {
   "cell_type": "code",
   "execution_count": 22,
   "metadata": {},
   "outputs": [
    {
     "data": {
      "application/vnd.jupyter.widget-view+json": {
       "model_id": "78e7011bd99b40deb735d4c2dedb03c2",
       "version_major": 2,
       "version_minor": 0
      },
      "text/plain": [
       "  0%|          | 0/4 [00:00<?, ?it/s]"
      ]
     },
     "metadata": {},
     "output_type": "display_data"
    },
    {
     "data": {
      "application/vnd.jupyter.widget-view+json": {
       "model_id": "0407509b243c48429b31c731ee03d4cb",
       "version_major": 2,
       "version_minor": 0
      },
      "text/plain": [
       "  0%|          | 0/10 [00:00<?, ?it/s]"
      ]
     },
     "metadata": {},
     "output_type": "display_data"
    },
    {
     "name": "stdout",
     "output_type": "stream",
     "text": [
      "5/5 [==============================] - 1s 956us/step\n",
      "5/5 [==============================] - 1s 1ms/step\n",
      "5/5 [==============================] - 1s 2ms/step\n",
      "5/5 [==============================] - 1s 3ms/step\n",
      "5/5 [==============================] - 1s 921us/step\n",
      "5/5 [==============================] - 1s 2ms/step\n",
      "5/5 [==============================] - 1s 3ms/step\n",
      "5/5 [==============================] - 1s 3ms/step\n",
      "5/5 [==============================] - 1s 2ms/step\n",
      "5/5 [==============================] - 1s 2ms/step\n"
     ]
    },
    {
     "data": {
      "application/vnd.jupyter.widget-view+json": {
       "model_id": "0621b312650c485a86a01cc1880914c4",
       "version_major": 2,
       "version_minor": 0
      },
      "text/plain": [
       "  0%|          | 0/10 [00:00<?, ?it/s]"
      ]
     },
     "metadata": {},
     "output_type": "display_data"
    },
    {
     "name": "stdout",
     "output_type": "stream",
     "text": [
      "5/5 [==============================] - 1s 2ms/step\n",
      "5/5 [==============================] - 1s 2ms/step\n",
      "5/5 [==============================] - 1s 3ms/step\n",
      "5/5 [==============================] - 1s 3ms/step\n",
      "5/5 [==============================] - 1s 2ms/step\n",
      "5/5 [==============================] - 1s 4ms/step\n",
      "5/5 [==============================] - 1s 3ms/step\n",
      "5/5 [==============================] - 1s 3ms/step\n",
      "5/5 [==============================] - 1s 3ms/step\n",
      "5/5 [==============================] - 1s 4ms/step\n"
     ]
    },
    {
     "data": {
      "application/vnd.jupyter.widget-view+json": {
       "model_id": "61a85b9715dd47a5b56af8b284e1d20f",
       "version_major": 2,
       "version_minor": 0
      },
      "text/plain": [
       "  0%|          | 0/10 [00:00<?, ?it/s]"
      ]
     },
     "metadata": {},
     "output_type": "display_data"
    },
    {
     "name": "stdout",
     "output_type": "stream",
     "text": [
      "5/5 [==============================] - 1s 3ms/step\n",
      "5/5 [==============================] - 1s 3ms/step\n",
      "5/5 [==============================] - 1s 2ms/step\n",
      "5/5 [==============================] - 1s 2ms/step\n",
      "5/5 [==============================] - 1s 2ms/step\n",
      "5/5 [==============================] - 1s 2ms/step\n",
      "5/5 [==============================] - 1s 2ms/step\n",
      "5/5 [==============================] - 1s 3ms/step\n",
      "5/5 [==============================] - 1s 4ms/step\n",
      "5/5 [==============================] - 1s 2ms/step\n"
     ]
    },
    {
     "data": {
      "application/vnd.jupyter.widget-view+json": {
       "model_id": "f28e6769ddd1431690781a41dede7a97",
       "version_major": 2,
       "version_minor": 0
      },
      "text/plain": [
       "  0%|          | 0/10 [00:00<?, ?it/s]"
      ]
     },
     "metadata": {},
     "output_type": "display_data"
    },
    {
     "name": "stdout",
     "output_type": "stream",
     "text": [
      "5/5 [==============================] - 1s 4ms/step\n",
      "5/5 [==============================] - 1s 5ms/step\n",
      "5/5 [==============================] - 1s 4ms/step\n",
      "5/5 [==============================] - 1s 4ms/step\n",
      "5/5 [==============================] - 1s 3ms/step\n",
      "5/5 [==============================] - 1s 4ms/step\n",
      "5/5 [==============================] - 1s 4ms/step\n",
      "5/5 [==============================] - 1s 3ms/step\n",
      "5/5 [==============================] - 1s 3ms/step\n",
      "5/5 [==============================] - 1s 4ms/step\n",
      "Minutes taken = 10.837417562802633\n"
     ]
    },
    {
     "data": {
      "text/html": [
       "<div>\n",
       "<style scoped>\n",
       "    .dataframe tbody tr th:only-of-type {\n",
       "        vertical-align: middle;\n",
       "    }\n",
       "\n",
       "    .dataframe tbody tr th {\n",
       "        vertical-align: top;\n",
       "    }\n",
       "\n",
       "    .dataframe thead th {\n",
       "        text-align: right;\n",
       "    }\n",
       "</style>\n",
       "<table border=\"1\" class=\"dataframe\">\n",
       "  <thead>\n",
       "    <tr style=\"text-align: right;\">\n",
       "      <th></th>\n",
       "      <th>lstm_units</th>\n",
       "      <th>dropout_prob</th>\n",
       "      <th>rmse</th>\n",
       "      <th>mape_pct</th>\n",
       "    </tr>\n",
       "  </thead>\n",
       "  <tbody>\n",
       "    <tr>\n",
       "      <th>0</th>\n",
       "      <td>10</td>\n",
       "      <td>0.50</td>\n",
       "      <td>0.652369</td>\n",
       "      <td>4.876492</td>\n",
       "    </tr>\n",
       "    <tr>\n",
       "      <th>1</th>\n",
       "      <td>10</td>\n",
       "      <td>0.55</td>\n",
       "      <td>0.782253</td>\n",
       "      <td>5.922353</td>\n",
       "    </tr>\n",
       "    <tr>\n",
       "      <th>2</th>\n",
       "      <td>10</td>\n",
       "      <td>0.60</td>\n",
       "      <td>0.875950</td>\n",
       "      <td>6.668141</td>\n",
       "    </tr>\n",
       "    <tr>\n",
       "      <th>3</th>\n",
       "      <td>10</td>\n",
       "      <td>0.65</td>\n",
       "      <td>1.015430</td>\n",
       "      <td>7.801648</td>\n",
       "    </tr>\n",
       "    <tr>\n",
       "      <th>4</th>\n",
       "      <td>10</td>\n",
       "      <td>0.70</td>\n",
       "      <td>1.290998</td>\n",
       "      <td>10.046132</td>\n",
       "    </tr>\n",
       "    <tr>\n",
       "      <th>5</th>\n",
       "      <td>10</td>\n",
       "      <td>0.75</td>\n",
       "      <td>1.373697</td>\n",
       "      <td>10.665662</td>\n",
       "    </tr>\n",
       "    <tr>\n",
       "      <th>6</th>\n",
       "      <td>10</td>\n",
       "      <td>0.80</td>\n",
       "      <td>1.662204</td>\n",
       "      <td>12.980273</td>\n",
       "    </tr>\n",
       "    <tr>\n",
       "      <th>7</th>\n",
       "      <td>10</td>\n",
       "      <td>0.85</td>\n",
       "      <td>2.106473</td>\n",
       "      <td>16.491577</td>\n",
       "    </tr>\n",
       "    <tr>\n",
       "      <th>8</th>\n",
       "      <td>10</td>\n",
       "      <td>0.90</td>\n",
       "      <td>2.490890</td>\n",
       "      <td>19.517726</td>\n",
       "    </tr>\n",
       "    <tr>\n",
       "      <th>9</th>\n",
       "      <td>10</td>\n",
       "      <td>0.95</td>\n",
       "      <td>3.447496</td>\n",
       "      <td>27.050559</td>\n",
       "    </tr>\n",
       "    <tr>\n",
       "      <th>10</th>\n",
       "      <td>50</td>\n",
       "      <td>0.50</td>\n",
       "      <td>0.250095</td>\n",
       "      <td>1.499596</td>\n",
       "    </tr>\n",
       "    <tr>\n",
       "      <th>11</th>\n",
       "      <td>50</td>\n",
       "      <td>0.55</td>\n",
       "      <td>0.283561</td>\n",
       "      <td>1.856816</td>\n",
       "    </tr>\n",
       "    <tr>\n",
       "      <th>12</th>\n",
       "      <td>50</td>\n",
       "      <td>0.60</td>\n",
       "      <td>0.370570</td>\n",
       "      <td>2.555937</td>\n",
       "    </tr>\n",
       "    <tr>\n",
       "      <th>13</th>\n",
       "      <td>50</td>\n",
       "      <td>0.65</td>\n",
       "      <td>0.423475</td>\n",
       "      <td>2.994365</td>\n",
       "    </tr>\n",
       "    <tr>\n",
       "      <th>14</th>\n",
       "      <td>50</td>\n",
       "      <td>0.70</td>\n",
       "      <td>0.500154</td>\n",
       "      <td>3.638012</td>\n",
       "    </tr>\n",
       "    <tr>\n",
       "      <th>15</th>\n",
       "      <td>50</td>\n",
       "      <td>0.75</td>\n",
       "      <td>0.738628</td>\n",
       "      <td>5.606314</td>\n",
       "    </tr>\n",
       "    <tr>\n",
       "      <th>16</th>\n",
       "      <td>50</td>\n",
       "      <td>0.80</td>\n",
       "      <td>0.912639</td>\n",
       "      <td>7.031295</td>\n",
       "    </tr>\n",
       "    <tr>\n",
       "      <th>17</th>\n",
       "      <td>50</td>\n",
       "      <td>0.85</td>\n",
       "      <td>1.065774</td>\n",
       "      <td>8.248795</td>\n",
       "    </tr>\n",
       "    <tr>\n",
       "      <th>18</th>\n",
       "      <td>50</td>\n",
       "      <td>0.90</td>\n",
       "      <td>1.158914</td>\n",
       "      <td>8.979354</td>\n",
       "    </tr>\n",
       "    <tr>\n",
       "      <th>19</th>\n",
       "      <td>50</td>\n",
       "      <td>0.95</td>\n",
       "      <td>1.640019</td>\n",
       "      <td>12.755726</td>\n",
       "    </tr>\n",
       "    <tr>\n",
       "      <th>20</th>\n",
       "      <td>64</td>\n",
       "      <td>0.50</td>\n",
       "      <td>0.307027</td>\n",
       "      <td>2.038524</td>\n",
       "    </tr>\n",
       "    <tr>\n",
       "      <th>21</th>\n",
       "      <td>64</td>\n",
       "      <td>0.55</td>\n",
       "      <td>0.282560</td>\n",
       "      <td>1.854355</td>\n",
       "    </tr>\n",
       "    <tr>\n",
       "      <th>22</th>\n",
       "      <td>64</td>\n",
       "      <td>0.60</td>\n",
       "      <td>0.247403</td>\n",
       "      <td>1.471819</td>\n",
       "    </tr>\n",
       "    <tr>\n",
       "      <th>23</th>\n",
       "      <td>64</td>\n",
       "      <td>0.65</td>\n",
       "      <td>0.257754</td>\n",
       "      <td>1.488807</td>\n",
       "    </tr>\n",
       "    <tr>\n",
       "      <th>24</th>\n",
       "      <td>64</td>\n",
       "      <td>0.70</td>\n",
       "      <td>0.249084</td>\n",
       "      <td>1.504275</td>\n",
       "    </tr>\n",
       "    <tr>\n",
       "      <th>25</th>\n",
       "      <td>64</td>\n",
       "      <td>0.75</td>\n",
       "      <td>0.289848</td>\n",
       "      <td>1.923405</td>\n",
       "    </tr>\n",
       "    <tr>\n",
       "      <th>26</th>\n",
       "      <td>64</td>\n",
       "      <td>0.80</td>\n",
       "      <td>0.425400</td>\n",
       "      <td>3.044858</td>\n",
       "    </tr>\n",
       "    <tr>\n",
       "      <th>27</th>\n",
       "      <td>64</td>\n",
       "      <td>0.85</td>\n",
       "      <td>0.316952</td>\n",
       "      <td>2.150308</td>\n",
       "    </tr>\n",
       "    <tr>\n",
       "      <th>28</th>\n",
       "      <td>64</td>\n",
       "      <td>0.90</td>\n",
       "      <td>0.469598</td>\n",
       "      <td>3.409871</td>\n",
       "    </tr>\n",
       "    <tr>\n",
       "      <th>29</th>\n",
       "      <td>64</td>\n",
       "      <td>0.95</td>\n",
       "      <td>0.890429</td>\n",
       "      <td>6.734375</td>\n",
       "    </tr>\n",
       "    <tr>\n",
       "      <th>30</th>\n",
       "      <td>128</td>\n",
       "      <td>0.50</td>\n",
       "      <td>0.428947</td>\n",
       "      <td>3.035251</td>\n",
       "    </tr>\n",
       "    <tr>\n",
       "      <th>31</th>\n",
       "      <td>128</td>\n",
       "      <td>0.55</td>\n",
       "      <td>0.283390</td>\n",
       "      <td>1.820266</td>\n",
       "    </tr>\n",
       "    <tr>\n",
       "      <th>32</th>\n",
       "      <td>128</td>\n",
       "      <td>0.60</td>\n",
       "      <td>0.429429</td>\n",
       "      <td>2.977892</td>\n",
       "    </tr>\n",
       "    <tr>\n",
       "      <th>33</th>\n",
       "      <td>128</td>\n",
       "      <td>0.65</td>\n",
       "      <td>0.401953</td>\n",
       "      <td>2.798371</td>\n",
       "    </tr>\n",
       "    <tr>\n",
       "      <th>34</th>\n",
       "      <td>128</td>\n",
       "      <td>0.70</td>\n",
       "      <td>0.255857</td>\n",
       "      <td>1.488588</td>\n",
       "    </tr>\n",
       "    <tr>\n",
       "      <th>35</th>\n",
       "      <td>128</td>\n",
       "      <td>0.75</td>\n",
       "      <td>0.286306</td>\n",
       "      <td>1.898567</td>\n",
       "    </tr>\n",
       "    <tr>\n",
       "      <th>36</th>\n",
       "      <td>128</td>\n",
       "      <td>0.80</td>\n",
       "      <td>0.250138</td>\n",
       "      <td>1.489278</td>\n",
       "    </tr>\n",
       "    <tr>\n",
       "      <th>37</th>\n",
       "      <td>128</td>\n",
       "      <td>0.85</td>\n",
       "      <td>0.343759</td>\n",
       "      <td>2.329445</td>\n",
       "    </tr>\n",
       "    <tr>\n",
       "      <th>38</th>\n",
       "      <td>128</td>\n",
       "      <td>0.90</td>\n",
       "      <td>0.695149</td>\n",
       "      <td>5.240857</td>\n",
       "    </tr>\n",
       "    <tr>\n",
       "      <th>39</th>\n",
       "      <td>128</td>\n",
       "      <td>0.95</td>\n",
       "      <td>0.975303</td>\n",
       "      <td>7.500750</td>\n",
       "    </tr>\n",
       "  </tbody>\n",
       "</table>\n",
       "</div>"
      ],
      "text/plain": [
       "    lstm_units  dropout_prob      rmse   mape_pct\n",
       "0           10          0.50  0.652369   4.876492\n",
       "1           10          0.55  0.782253   5.922353\n",
       "2           10          0.60  0.875950   6.668141\n",
       "3           10          0.65  1.015430   7.801648\n",
       "4           10          0.70  1.290998  10.046132\n",
       "5           10          0.75  1.373697  10.665662\n",
       "6           10          0.80  1.662204  12.980273\n",
       "7           10          0.85  2.106473  16.491577\n",
       "8           10          0.90  2.490890  19.517726\n",
       "9           10          0.95  3.447496  27.050559\n",
       "10          50          0.50  0.250095   1.499596\n",
       "11          50          0.55  0.283561   1.856816\n",
       "12          50          0.60  0.370570   2.555937\n",
       "13          50          0.65  0.423475   2.994365\n",
       "14          50          0.70  0.500154   3.638012\n",
       "15          50          0.75  0.738628   5.606314\n",
       "16          50          0.80  0.912639   7.031295\n",
       "17          50          0.85  1.065774   8.248795\n",
       "18          50          0.90  1.158914   8.979354\n",
       "19          50          0.95  1.640019  12.755726\n",
       "20          64          0.50  0.307027   2.038524\n",
       "21          64          0.55  0.282560   1.854355\n",
       "22          64          0.60  0.247403   1.471819\n",
       "23          64          0.65  0.257754   1.488807\n",
       "24          64          0.70  0.249084   1.504275\n",
       "25          64          0.75  0.289848   1.923405\n",
       "26          64          0.80  0.425400   3.044858\n",
       "27          64          0.85  0.316952   2.150308\n",
       "28          64          0.90  0.469598   3.409871\n",
       "29          64          0.95  0.890429   6.734375\n",
       "30         128          0.50  0.428947   3.035251\n",
       "31         128          0.55  0.283390   1.820266\n",
       "32         128          0.60  0.429429   2.977892\n",
       "33         128          0.65  0.401953   2.798371\n",
       "34         128          0.70  0.255857   1.488588\n",
       "35         128          0.75  0.286306   1.898567\n",
       "36         128          0.80  0.250138   1.489278\n",
       "37         128          0.85  0.343759   2.329445\n",
       "38         128          0.90  0.695149   5.240857\n",
       "39         128          0.95  0.975303   7.500750"
      ]
     },
     "execution_count": 22,
     "metadata": {},
     "output_type": "execute_result"
    }
   ],
   "source": [
    "#网格搜索，调整隐藏单元数量及dropout比率\n",
    "param_label = 'lstm_units'\n",
    "param_list = [10, 50, 64, 128]\n",
    "\n",
    "param2_label = 'dropout_prob'\n",
    "param2_list = [0.5,0.55, 0.6,0.65, 0.7, 0.75, 0.8, 0.85,0.9,0.95]\n",
    "\n",
    "error_rate = {param_label: [], param2_label: [], 'rmse': [], 'mape_pct': []}\n",
    "tic = time.time()\n",
    "for param in tqdm(param_list):\n",
    "\n",
    "    for param2 in tqdm(param2_list):\n",
    "\n",
    "        rmse, mape, _ = train_pred_eval_model(x_train_scaled,y_train_scaled,x_cv_scaled,y_cv_scaled,scaler,lstm_units=param,dropout_prob=param2,optimizer='adam',epochs=epochs_opt,batch_size=batch_size_opt)\n",
    "\n",
    "        error_rate[param_label].append(param)\n",
    "        error_rate[param2_label].append(param2)\n",
    "        error_rate['rmse'].append(rmse)\n",
    "        error_rate['mape_pct'].append(mape)\n",
    "\n",
    "error_rate = pd.DataFrame(error_rate)\n",
    "toc = time.time()\n",
    "print(\"Minutes taken = \" + str((toc-tic)/60.0))\n",
    "error_rate   "
   ]
  },
  {
   "cell_type": "code",
   "execution_count": 25,
   "metadata": {},
   "outputs": [
    {
     "data": {
      "text/plain": [
       "<matplotlib.legend.Legend at 0x29b03123490>"
      ]
     },
     "execution_count": 25,
     "metadata": {},
     "output_type": "execute_result"
    },
    {
     "data": {
      "image/png": "[encoded data removed]",
      "text/plain": [
       "<Figure size 720x576 with 1 Axes>"
      ]
     },
     "metadata": {
      "needs_background": "light"
     },
     "output_type": "display_data"
    }
   ],
   "source": [
    "# 可视化\n",
    "rcParams['figure.figsize'] = 10, 8 \n",
    "temp = error_rate[error_rate[param2_label]==param2_list[0]]\n",
    "ax = temp.plot(x=param_label, y='rmse', style='bs-', grid=True)\n",
    "legend_list = [param2_label + '_' + str(param2_list[0])]\n",
    "\n",
    "color_list = ['r', 'g', 'k', 'y', 'm', 'c', '0.75']\n",
    "for i in range(1,len(param2_list)):\n",
    "    temp = error_rate[error_rate[param2_label]==param2_list[i]]\n",
    "    ax = temp.plot(x=param_label, y='rmse', color=color_list[i%len(color_list)], marker='s', grid=True, ax=ax)\n",
    "    legend_list.append(param2_label + '_' + str(param2_list[i]))\n",
    "\n",
    "ax.set_xlabel(param_label)\n",
    "ax.set_ylabel(\"RMSE\")\n",
    "matplotlib.rcParams.update({'font.size': 14})\n",
    "plt.legend(legend_list, loc='center left', bbox_to_anchor=(1.0, 0.5)) "
   ]
  },
  {
   "cell_type": "code",
   "execution_count": 26,
   "metadata": {},
   "outputs": [
    {
     "name": "stdout",
     "output_type": "stream",
     "text": [
      "min RMSE = 0.247\n",
      "min MAPE = 1.472%\n",
      "optimum lstm_units = 64\n",
      "optimum dropout_prob = 0.6\n"
     ]
    }
   ],
   "source": [
    "# 显示最优MAPE，RMSE及其对应参数\n",
    "temp = error_rate[error_rate['rmse'] == error_rate['rmse'].min()]\n",
    "lstm_units_opt = temp[param_label].values[0]\n",
    "dropout_prob_opt = temp[param2_label].values[0]\n",
    "print(\"min RMSE = %0.3f\" % error_rate['rmse'].min())\n",
    "print(\"min MAPE = %0.3f%%\" % error_rate['mape_pct'].min())\n",
    "print(\"optimum \" + param_label + \" = \" + str(lstm_units_opt))\n",
    "print(\"optimum \" + param2_label + \" = \" + str(dropout_prob_opt))"
   ]
  },
  {
   "cell_type": "code",
   "execution_count": 27,
   "metadata": {},
   "outputs": [
    {
     "name": "stdout",
     "output_type": "stream",
     "text": [
      "64 0.6 50 8\n"
     ]
    },
    {
     "data": {
      "application/vnd.jupyter.widget-view+json": {
       "model_id": "af1ffeeef6cd4bd891a9d3e3c70ad63c",
       "version_major": 2,
       "version_minor": 0
      },
      "text/plain": [
       "  0%|          | 0/7 [00:00<?, ?it/s]"
      ]
     },
     "metadata": {},
     "output_type": "display_data"
    },
    {
     "name": "stdout",
     "output_type": "stream",
     "text": [
      "5/5 [==============================] - 1s 3ms/step\n",
      "5/5 [==============================] - 1s 2ms/step\n",
      "5/5 [==============================] - 1s 3ms/step\n",
      "5/5 [==============================] - 1s 3ms/step\n",
      "5/5 [==============================] - 1s 4ms/step\n",
      "5/5 [==============================] - 1s 2ms/step\n",
      "5/5 [==============================] - 1s 2ms/step\n",
      "Minutes taken = 1.8603228529294331\n"
     ]
    },
    {
     "data": {
      "text/html": [
       "<div>\n",
       "<style scoped>\n",
       "    .dataframe tbody tr th:only-of-type {\n",
       "        vertical-align: middle;\n",
       "    }\n",
       "\n",
       "    .dataframe tbody tr th {\n",
       "        vertical-align: top;\n",
       "    }\n",
       "\n",
       "    .dataframe thead th {\n",
       "        text-align: right;\n",
       "    }\n",
       "</style>\n",
       "<table border=\"1\" class=\"dataframe\">\n",
       "  <thead>\n",
       "    <tr style=\"text-align: right;\">\n",
       "      <th></th>\n",
       "      <th>optimizer</th>\n",
       "      <th>rmse</th>\n",
       "      <th>mape_pct</th>\n",
       "    </tr>\n",
       "  </thead>\n",
       "  <tbody>\n",
       "    <tr>\n",
       "      <th>0</th>\n",
       "      <td>adam</td>\n",
       "      <td>0.249023</td>\n",
       "      <td>1.465094</td>\n",
       "    </tr>\n",
       "    <tr>\n",
       "      <th>1</th>\n",
       "      <td>sgd</td>\n",
       "      <td>3.584657</td>\n",
       "      <td>28.170364</td>\n",
       "    </tr>\n",
       "    <tr>\n",
       "      <th>2</th>\n",
       "      <td>rmsprop</td>\n",
       "      <td>0.259838</td>\n",
       "      <td>1.478349</td>\n",
       "    </tr>\n",
       "    <tr>\n",
       "      <th>3</th>\n",
       "      <td>adagrad</td>\n",
       "      <td>3.864623</td>\n",
       "      <td>30.262991</td>\n",
       "    </tr>\n",
       "    <tr>\n",
       "      <th>4</th>\n",
       "      <td>adadelta</td>\n",
       "      <td>2.155174</td>\n",
       "      <td>13.954161</td>\n",
       "    </tr>\n",
       "    <tr>\n",
       "      <th>5</th>\n",
       "      <td>adamax</td>\n",
       "      <td>0.464042</td>\n",
       "      <td>3.348958</td>\n",
       "    </tr>\n",
       "    <tr>\n",
       "      <th>6</th>\n",
       "      <td>nadam</td>\n",
       "      <td>0.248077</td>\n",
       "      <td>1.469467</td>\n",
       "    </tr>\n",
       "  </tbody>\n",
       "</table>\n",
       "</div>"
      ],
      "text/plain": [
       "  optimizer      rmse   mape_pct\n",
       "0      adam  0.249023   1.465094\n",
       "1       sgd  3.584657  28.170364\n",
       "2   rmsprop  0.259838   1.478349\n",
       "3   adagrad  3.864623  30.262991\n",
       "4  adadelta  2.155174  13.954161\n",
       "5    adamax  0.464042   3.348958\n",
       "6     nadam  0.248077   1.469467"
      ]
     },
     "execution_count": 27,
     "metadata": {},
     "output_type": "execute_result"
    }
   ],
   "source": [
    "#网格搜索，调整优化器\n",
    "param_label = 'optimizer'\n",
    "param_list = ['adam', 'sgd', 'rmsprop', 'adagrad', 'adadelta', 'adamax', 'nadam']\n",
    "\n",
    "error_rate = {param_label: [], 'rmse': [], 'mape_pct': []}\n",
    "tic = time.time()\n",
    "print(lstm_units_opt,dropout_prob_opt,epochs_opt,batch_size_opt)\n",
    "for param in tqdm(param_list):\n",
    "   \n",
    "\n",
    "    rmse, mape, _ = train_pred_eval_model(x_train_scaled,y_train_scaled,x_cv_scaled,y_cv_scaled,scaler, lstm_units=int(lstm_units_opt), dropout_prob=dropout_prob_opt,optimizer=param,epochs=epochs_opt,batch_size=batch_size_opt)\n",
    "    \n",
    "    error_rate[param_label].append(param)\n",
    "    error_rate['rmse'].append(rmse)\n",
    "    error_rate['mape_pct'].append(mape)\n",
    "    \n",
    "error_rate = pd.DataFrame(error_rate)\n",
    "toc = time.time()\n",
    "print(\"Minutes taken = \" + str((toc-tic)/60.0))\n",
    "error_rate   "
   ]
  },
  {
   "cell_type": "code",
   "execution_count": 28,
   "metadata": {},
   "outputs": [
    {
     "data": {
      "text/plain": [
       "Text(0, 0.5, 'RMSE/MAPE(%)')"
      ]
     },
     "execution_count": 28,
     "metadata": {},
     "output_type": "execute_result"
    },
    {
     "data": {
      "image/png": "[encoded data removed]",
      "text/plain": [
       "<Figure size 720x576 with 1 Axes>"
      ]
     },
     "metadata": {
      "needs_background": "light"
     },
     "output_type": "display_data"
    }
   ],
   "source": [
    "#可视化\n",
    "rcParams['figure.figsize'] = 10, 8 # width 10, height 8\n",
    "\n",
    "ax = error_rate.plot(x='optimizer', y='rmse', style='bx-', grid=True)\n",
    "ax = error_rate.plot(x='optimizer', y='mape_pct', style='rx-', grid=True, ax=ax)\n",
    "ax.set_xlabel(\"Optimizer\")\n",
    "ax.set_ylabel(\"RMSE/MAPE(%)\")"
   ]
  },
  {
   "cell_type": "code",
   "execution_count": 29,
   "metadata": {},
   "outputs": [
    {
     "name": "stdout",
     "output_type": "stream",
     "text": [
      "min RMSE = 0.248\n",
      "min MAPE = 1.465%\n",
      "optimum optimizer = nadam\n"
     ]
    }
   ],
   "source": [
    "# 显示最优MAPE，RMSE及其对应参数\n",
    "temp = error_rate[error_rate['rmse'] == error_rate['rmse'].min()]\n",
    "optimizer_opt = temp[param_label].values[0]\n",
    "print(\"min RMSE = %0.3f\" % error_rate['rmse'].min())\n",
    "print(\"min MAPE = %0.3f%%\" % error_rate['mape_pct'].min())\n",
    "print(\"optimum \" + param_label + \" = \" + str(optimizer_opt))"
   ]
  },
  {
   "cell_type": "code",
   "execution_count": 30,
   "metadata": {},
   "outputs": [
    {
     "data": {
      "text/html": [
       "<div>\n",
       "<style scoped>\n",
       "    .dataframe tbody tr th:only-of-type {\n",
       "        vertical-align: middle;\n",
       "    }\n",
       "\n",
       "    .dataframe tbody tr th {\n",
       "        vertical-align: top;\n",
       "    }\n",
       "\n",
       "    .dataframe thead th {\n",
       "        text-align: right;\n",
       "    }\n",
       "</style>\n",
       "<table border=\"1\" class=\"dataframe\">\n",
       "  <thead>\n",
       "    <tr style=\"text-align: right;\">\n",
       "      <th></th>\n",
       "      <th>param</th>\n",
       "      <th>original</th>\n",
       "      <th>after_tuning</th>\n",
       "    </tr>\n",
       "  </thead>\n",
       "  <tbody>\n",
       "    <tr>\n",
       "      <th>0</th>\n",
       "      <td>N</td>\n",
       "      <td>9</td>\n",
       "      <td>2</td>\n",
       "    </tr>\n",
       "    <tr>\n",
       "      <th>1</th>\n",
       "      <td>lstm_units</td>\n",
       "      <td>50</td>\n",
       "      <td>64</td>\n",
       "    </tr>\n",
       "    <tr>\n",
       "      <th>2</th>\n",
       "      <td>dropout_prob</td>\n",
       "      <td>0.5</td>\n",
       "      <td>0.6</td>\n",
       "    </tr>\n",
       "    <tr>\n",
       "      <th>3</th>\n",
       "      <td>optimizer</td>\n",
       "      <td>adam</td>\n",
       "      <td>nadam</td>\n",
       "    </tr>\n",
       "    <tr>\n",
       "      <th>4</th>\n",
       "      <td>epochs</td>\n",
       "      <td>1</td>\n",
       "      <td>50</td>\n",
       "    </tr>\n",
       "    <tr>\n",
       "      <th>5</th>\n",
       "      <td>batch_size</td>\n",
       "      <td>1</td>\n",
       "      <td>8</td>\n",
       "    </tr>\n",
       "    <tr>\n",
       "      <th>6</th>\n",
       "      <td>rmse</td>\n",
       "      <td>1.36121</td>\n",
       "      <td>0.248077</td>\n",
       "    </tr>\n",
       "    <tr>\n",
       "      <th>7</th>\n",
       "      <td>mape_pct</td>\n",
       "      <td>10.065886</td>\n",
       "      <td>1.465094</td>\n",
       "    </tr>\n",
       "  </tbody>\n",
       "</table>\n",
       "</div>"
      ],
      "text/plain": [
       "          param   original after_tuning\n",
       "0             N          9            2\n",
       "1    lstm_units         50           64\n",
       "2  dropout_prob        0.5          0.6\n",
       "3     optimizer       adam        nadam\n",
       "4        epochs          1           50\n",
       "5    batch_size          1            8\n",
       "6          rmse    1.36121     0.248077\n",
       "7      mape_pct  10.065886     1.465094"
      ]
     },
     "execution_count": 30,
     "metadata": {},
     "output_type": "execute_result"
    }
   ],
   "source": [
    "#显示最优超参数组合\n",
    "d = {'param': ['N', 'lstm_units', 'dropout_prob', 'optimizer', 'epochs', 'batch_size', 'rmse', 'mape_pct'],\n",
    "     'original': [N, lstm_units, dropout_prob, optimizer, epochs, batch_size, rmse_bef_tuning, mape_pct_bef_tuning],\n",
    "     'after_tuning': [N_opt, lstm_units_opt, dropout_prob_opt, optimizer_opt, epochs_opt, batch_size_opt, error_rate['rmse'].min(), error_rate['mape_pct'].min()]}\n",
    "tuned_params = pd.DataFrame(d)\n",
    "tuned_params"
   ]
  },
  {
   "cell_type": "code",
   "execution_count": 33,
   "metadata": {},
   "outputs": [
    {
     "name": "stdout",
     "output_type": "stream",
     "text": [
      "5/5 [==============================] - 1s 2ms/step\n",
      "RMSE on test set = 0.214\n",
      "MAPE on test set = 1.713%\n"
     ]
    }
   ],
   "source": [
    "#分割数据集\n",
    "x_train_cv_scaled, y_train_cv_scaled = get_x_y(train_cv_scaled_final, N_opt, N_opt)\n",
    "x_test_scaled, y_test_scaled = get_x_y(test_scaled, N_opt, num_train+num_cv)\n",
    "rmse, mape, est = train_pred_eval_model(x_train_cv_scaled, \\\n",
    "                                        y_train_cv_scaled, \\\n",
    "                                        x_test_scaled, \\\n",
    "                                        y_test_scaled, \\\n",
    "                                        scaler_final, \\\n",
    "                                        lstm_units=int(lstm_units_opt), \\\n",
    "                                        dropout_prob=dropout_prob_opt, \\\n",
    "                                        optimizer=optimizer_opt, \\\n",
    "                                        epochs=epochs_opt, \\\n",
    "                                        batch_size=batch_size_opt)\n",
    "\n",
    "# 计算RMSE和MAPE\n",
    "print(\"RMSE on test set = %0.3f\" % rmse)\n",
    "print(\"MAPE on test set = %0.3f%%\" % mape)"
   ]
  },
  {
   "cell_type": "code",
   "execution_count": 34,
   "metadata": {},
   "outputs": [
    {
     "data": {
      "text/plain": [
       "Text(0, 0.5, 'Price')"
      ]
     },
     "execution_count": 34,
     "metadata": {},
     "output_type": "execute_result"
    },
    {
     "data": {
      "image/png": "[encoded data removed]",
      "text/plain": [
       "<Figure size 720x576 with 1 Axes>"
      ]
     },
     "metadata": {
      "needs_background": "light"
     },
     "output_type": "display_data"
    }
   ],
   "source": [
    "#将预测结果与实际结果可视化\n",
    "rcParams['figure.figsize'] = 10, 8 # width 10, height 8\n",
    "\n",
    "est_df = pd.DataFrame({'est': est.reshape(-1), \n",
    "                       'date': df[num_train+num_cv:]['date']})\n",
    "\n",
    "ax = train.plot(x='date', y='adj_close', style='b-', grid=True)\n",
    "ax = cv.plot(x='date', y='adj_close', style='y-', grid=True, ax=ax)\n",
    "ax = test.plot(x='date', y='adj_close', style='g-', grid=True, ax=ax)\n",
    "ax = est_df.plot(x='date', y='est', style='r-', grid=True, ax=ax)\n",
    "ax.legend(['train', 'dev', 'test', 'predictions'])\n",
    "ax.set_xlabel(\"date\")\n",
    "ax.set_ylabel(\"Price\")"
   ]
  },
  {
   "cell_type": "code",
   "execution_count": 35,
   "metadata": {},
   "outputs": [
    {
     "data": {
      "text/plain": [
       "Text(0.5, 1.0, 'Zoom in to test set')"
      ]
     },
     "execution_count": 35,
     "metadata": {},
     "output_type": "execute_result"
    },
    {
     "data": {
      "image/png": "[encoded data removed]",
      "text/plain": [
       "<Figure size 720x576 with 1 Axes>"
      ]
     },
     "metadata": {
      "needs_background": "light"
     },
     "output_type": "display_data"
    }
   ],
   "source": [
    "# 放大到对应区间\n",
    "rcParams['figure.figsize'] = 10, 8 # width 10, height 8\n",
    "ax = train.plot(x='date', y='adj_close', style='b-', grid=True)\n",
    "ax = cv.plot(x='date', y='adj_close', style='y-', grid=True, ax=ax)\n",
    "ax = test.plot(x='date', y='adj_close', style='g-', grid=True, ax=ax)\n",
    "ax = est_df.plot(x='date', y='est', style='r-', grid=True, ax=ax)\n",
    "ax.legend(['train', 'dev', 'test', 'predictions'])\n",
    "ax.set_xlabel(\"date\")\n",
    "ax.set_ylabel(\"Price\")\n",
    "ax.set_xlim([date(2023, 9, 1), date(2024, 3, 29)])\n",
    "ax.set_ylim([5, 15])\n",
    "ax.set_title(\"Zoom in to test set\")"
   ]
  },
  {
   "cell_type": "code",
   "execution_count": null,
   "metadata": {},
   "outputs": [],
   "source": []
  },
  {
   "cell_type": "code",
   "execution_count": null,
   "metadata": {},
   "outputs": [],
   "source": []
  },
  {
   "cell_type": "code",
   "execution_count": null,
   "metadata": {},
   "outputs": [],
   "source": []
  },
  {
   "cell_type": "code",
   "execution_count": null,
   "metadata": {},
   "outputs": [],
   "source": []
  }
 ],
 "metadata": {
  "kernelspec": {
   "display_name": "Python 3 (ipykernel)",
   "language": "python",
   "name": "python3"
  },
  "language_info": {
   "codemirror_mode": {
    "name": "ipython",
    "version": 3
   },
   "file_extension": ".py",
   "mimetype": "text/x-python",
   "name": "python",
   "nbconvert_exporter": "python",
   "pygments_lexer": "ipython3",
   "version": "3.8.5"
  }
 },
 "nbformat": 4,
 "nbformat_minor": 4
}
